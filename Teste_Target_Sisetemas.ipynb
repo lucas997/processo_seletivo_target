{
  "nbformat": 4,
  "nbformat_minor": 0,
  "metadata": {
    "colab": {
      "provenance": []
    },
    "kernelspec": {
      "name": "python3",
      "display_name": "Python 3"
    },
    "language_info": {
      "name": "python"
    }
  },
  "cells": [
    {
      "cell_type": "markdown",
      "source": [
        " 1) Observe o trecho de código abaixo:\n",
        "\n",
        " int INDICE = 13, SOMA = 0, K = 0;\n",
        "\n",
        " enquanto K < INDICE faça\n",
        " {\n",
        " K = K + 1;\n",
        " SOMA = SOMA + K;\n",
        " }\n",
        "\n",
        " imprimir(SOMA);\n",
        "\n",
        " Ao final do processamento, qual será o valor da variável SOMA?"
      ],
      "metadata": {
        "id": "Jc-gOOD1ZYfp"
      }
    },
    {
      "cell_type": "code",
      "execution_count": 1,
      "metadata": {
        "colab": {
          "base_uri": "https://localhost:8080/"
        },
        "id": "8OUvTjZpZJul",
        "outputId": "925b7a74-393d-4db5-9b79-a7bc65491bd5"
      },
      "outputs": [
        {
          "output_type": "stream",
          "name": "stdout",
          "text": [
            "91\n"
          ]
        }
      ],
      "source": [
        "Indice = 13\n",
        "\n",
        "Soma = 0\n",
        "\n",
        "K = 0\n",
        "\n",
        "while K < Indice:\n",
        "\n",
        "   K = K + 1\n",
        "\n",
        "   Soma = Soma + K\n",
        "\n",
        "print (Soma)"
      ]
    },
    {
      "cell_type": "markdown",
      "source": [
        "2) Dado a sequência de Fibonacci, onde se inicia por 0 e 1 e o próximo valor sempre será a soma dos 2 valores anteriores (exemplo: 0, 1, 1, 2, 3, 5, 8, 13, 21, 34...), escreva um programa na linguagem que desejar onde, informado um número, ele calcule a sequência de Fibonacci e retorne uma mensagem avisando se o número informado pertence ou não a sequência.\n",
        "\n",
        "IMPORTANTE:\n",
        "Esse número pode ser informado através de qualquer entrada de sua preferência ou pode ser previamente definido no código;"
      ],
      "metadata": {
        "id": "TqvCJX9qZ2UR"
      }
    },
    {
      "cell_type": "code",
      "source": [
        "Termo1 = int(0)\n",
        "Termo2 = int(1)\n",
        "Termo3 = int(0)\n",
        "print ('-' *42)\n",
        "print (' ' *3, 'Consulta da Sequência de Fibonacci')\n",
        "print ('-' *42)\n",
        "Valor = int(input('Digite um número: '))\n",
        "while Valor > Termo3:\n",
        "  Termo3 = Termo1 + Termo2\n",
        "  Termo1 = Termo2\n",
        "  Termo2 = Termo3\n",
        "if Valor == 0 or Valor == 1:\n",
        "  print ('O número faz parte da sequência de Fibonacci.')\n",
        "elif Valor == Termo3:\n",
        "  print ('O número faz parte da sequência de Fibonacci.')\n",
        "else:\n",
        "  print ('O número digitado não faz parte da sequência de Fibonacci.')"
      ],
      "metadata": {
        "id": "V2jFQ70WZUYO"
      },
      "execution_count": null,
      "outputs": []
    },
    {
      "cell_type": "markdown",
      "source": [
        "3) Dado um vetor que guarda o valor de faturamento diário de uma distribuidora, faça um programa, na linguagem que desejar, que calcule e retorne:\n",
        "• O menor valor de faturamento ocorrido em um dia do mês;\n",
        "• O maior valor de faturamento ocorrido em um dia do mês;\n",
        "• Número de dias no mês em que o valor de faturamento diário foi superior à média mensal.\n",
        "\n",
        "IMPORTANTE:\n",
        "a) Usar o json ou xml disponível como fonte dos dados do faturamento mensal;\n",
        "b) Podem existir dias sem faturamento, como nos finais de semana e feriados. Estes dias devem ser ignorados no cálculo da média;"
      ],
      "metadata": {
        "id": "DerEnAK-aPmq"
      }
    },
    {
      "cell_type": "code",
      "source": [
        "import json\n",
        "from datetime import datetime, timedelta\n",
        "\n",
        "# Carrega o arquivo com os dados de faturamento\n",
        "with open('faturamento mensal.json') as f:\n",
        "    faturamento = json.load(f)\n",
        "\n",
        "# Inicializa as variáveis para armazenar o menor e o maior valor de faturamento\n",
        "menor_valor = float('inf')\n",
        "maior_valor = float('-inf')\n",
        "\n",
        "# Inicializa a variável para armazenar o total de faturamento e o número de dias com faturamento superior à média mensal\n",
        "total_faturamento = 0\n",
        "dias_com_faturamento_superior_a_media = 0\n",
        "\n",
        "# Calcula a média mensal de faturamento, ignorando os dias sem faturamento\n",
        "media_mensal = 0\n",
        "dias_no_mes = 0\n",
        "for dia, valor in faturamento.items():\n",
        "    dia = datetime.strptime(dia, '%Y-%m-%d')\n",
        "    if dia.weekday() < 5 and valor > 0:  # Ignora os dias sem faturamento e os finais de semana\n",
        "        total_faturamento += valor\n",
        "        dias_no_mes += 1\n",
        "media_mensal = total_faturamento / dias_no_mes\n",
        "\n",
        "# Itera pelos valores de faturamento e atualiza as variáveis de menor e maior valor de faturamento e o número de dias com faturamento superior à média mensal\n",
        "for valor in faturamento.values():\n",
        "    if valor < menor_valor:\n",
        "        menor_valor = valor\n",
        "    if valor > maior_valor:\n",
        "        maior_valor = valor\n",
        "    if valor > media_mensal:\n",
        "        dias_com_faturamento_superior_a_media += 1\n",
        "\n",
        "# Imprime os resultados\n",
        "print(f\"Menor valor de faturamento diário: R${menor_valor:.2f}\")\n",
        "print(f\"Maior valor de faturamento diário: R${maior_valor:.2f}\")\n",
        "print(f\"Número de dias com faturamento diário superior à média mensal (R${media_mensal:.2f}): {dias_com_faturamento_superior_a_media}\")\n"
      ],
      "metadata": {
        "colab": {
          "base_uri": "https://localhost:8080/"
        },
        "id": "Lnj_vY5UaHf-",
        "outputId": "0380a47e-3947-46ee-e9da-4d75b7c7913c"
      },
      "execution_count": 4,
      "outputs": [
        {
          "output_type": "stream",
          "name": "stdout",
          "text": [
            "Menor valor de faturamento diário: R$0.00\n",
            "Maior valor de faturamento diário: R$950.00\n",
            "Número de dias com faturamento diário superior à média mensal (R$686.00): 6\n"
          ]
        }
      ]
    },
    {
      "cell_type": "markdown",
      "source": [
        "4) Dado o valor de faturamento mensal de uma distribuidora, detalhado por estado:\n",
        "\n",
        "SP – R$67.836,43\n",
        "\n",
        "RJ – R$36.678,66\n",
        "\n",
        "MG – R$29.229,88\n",
        "\n",
        "ES – R$27.165,48\n",
        "\n",
        "Outros – R$19.849,53\n",
        "\n",
        "Escreva um programa na linguagem que desejar onde calcule o percentual de representação que cada estado teve dentro do valor total mensal da distribuidora."
      ],
      "metadata": {
        "id": "NXJcFlUsa4J1"
      }
    },
    {
      "cell_type": "code",
      "source": [
        "# Definindo os estados para uma melhor manipulação:\n",
        "e = ['SP', 'RJ', 'MG', 'ES', 'OUTROS']\n",
        "\n",
        "faturamento = list()\n",
        "for c in e:\n",
        "    # Capturando e tratando os valores digitados:\n",
        "    while True:\n",
        "        try:\n",
        "            v = float(input(f'Digite o faturamento mensal de {c}: '))\n",
        "            if v < 0:\n",
        "                print('\\033[31mValor INVÁLIDO! Digite apenas valores maiores ou iguais a \"0\":\\033[m')\n",
        "            break\n",
        "        except:\n",
        "            print('\\033[31mValor INVÁLIDO! Digite apenas valores reais!\\033[m')\n",
        "\n",
        "    # Armazenando os valores digitados na lista faturamento\n",
        "    faturamento.append(v)\n",
        "\n",
        "# Calculando o faturamento total da distribuidora:\n",
        "faturamento_total = sum(faturamento)\n",
        "print(f'\\033[32mO faturamento total da Distribuidora foi: R$ {faturamento_total:.2f}'.replace('.', ','))\n",
        "\n",
        "# Calculando e exibindo o percentual relativo de cada filial de cada estado:\n",
        "cont = 0\n",
        "for i in faturamento:\n",
        "    cont += 1\n",
        "    percentual = ((i / faturamento_total) * 100)\n",
        "    print(f'O percentual de faturamento de {e[cont - 1]} é: {percentual:.2f} %')"
      ],
      "metadata": {
        "id": "Ms7INZuqa328"
      },
      "execution_count": null,
      "outputs": []
    },
    {
      "cell_type": "markdown",
      "source": [
        "5) Escreva um programa que inverta os caracteres de um string.\n",
        "\n",
        "IMPORTANTE:\n",
        "a) Essa string pode ser informada através de qualquer entrada de sua preferência ou pode ser previamente definida no código;\n",
        "b) Evite usar funções prontas, como, por exemplo, reverse;"
      ],
      "metadata": {
        "id": "9k1yWfkha3k0"
      }
    },
    {
      "cell_type": "code",
      "source": [
        "# Define a string a ser invertida\n",
        "string = \"Hello, world!\"\n",
        "\n",
        "# Cria uma lista vazia para armazenar os caracteres invertidos\n",
        "inverted_chars = []\n",
        "\n",
        "# Itera sobre a string de trás para frente\n",
        "for i in range(len(string)-1, -1, -1):\n",
        "    # Adiciona o caractere atual à lista de caracteres invertidos\n",
        "    inverted_chars.append(string[i])\n",
        "\n",
        "# Converte a lista de caracteres invertidos de volta para uma string\n",
        "inverted_string = \"\".join(inverted_chars)\n",
        "\n",
        "# Imprime a string invertida\n",
        "print(inverted_string)"
      ],
      "metadata": {
        "colab": {
          "base_uri": "https://localhost:8080/"
        },
        "id": "HvKycMple_AA",
        "outputId": "646b8916-8598-45a6-92b7-2baffebe7e7d"
      },
      "execution_count": 5,
      "outputs": [
        {
          "output_type": "stream",
          "name": "stdout",
          "text": [
            "!dlrow ,olleH\n"
          ]
        }
      ]
    },
    {
      "cell_type": "markdown",
      "source": [
        "Nesta última questão a string a ser invertida é definida na primeira linha do código. Logo após uma lista vazia é criada para armazenar os caracteres invertidos.\n",
        "\n",
        "O loop for itera sobre a string de trás para frente, adicionando cada caractere à lista de caracteres invertidos na ordem inversa.\n",
        "\n",
        "Por fim, a lista de caracteres invertidos é convertida de volta para uma string usando o método join(), e a string invertida resultante é impressa na tela."
      ],
      "metadata": {
        "id": "QplZqPOdfD2X"
      }
    },
    {
      "cell_type": "code",
      "source": [],
      "metadata": {
        "id": "iA2I4HsHfSd1"
      },
      "execution_count": null,
      "outputs": []
    }
  ]
}